{
 "cells": [
  {
   "cell_type": "code",
   "execution_count": 11,
   "id": "4aaab4b6-7071-4573-8ac7-482b2c42b493",
   "metadata": {},
   "outputs": [],
   "source": [
    "import pandas as pd\n",
    "import numpy as np\n",
    "from sklearn.model_selection import train_test_split\n",
    "import xgboost as xgb\n",
    "from sklearn.preprocessing import LabelEncoder\n",
    "from sklearn.metrics import mean_absolute_error, mean_squared_error, r2_score\n",
    "import shap\n",
    "\n",
    "# Sample dataset generation with continuous risk score\n",
    "data = {\n",
    "    'Payment_Amount': np.random.randint(5000, 100000, 100),\n",
    "    'Delivery_Time': np.random.randint(10, 60, 100),\n",
    "    'Contract_Size': np.random.choice(['Small', 'Large'], 100),\n",
    "    'Contract_Duration': np.random.randint(100, 500, 100),\n",
    "    'Buyer_Size': np.random.choice(['Small', 'Medium', 'Large'], 100),\n",
    "    'Farmer_Experience': np.random.randint(1, 40, 100),\n",
    "    'Buyer_Experience': np.random.randint(1, 40, 100),\n",
    "    'Past_Contracts': np.random.randint(1, 50, 100),\n",
    "    'Payment_Delays': np.random.randint(0, 10, 100),\n",
    "    'Delivery_Delays': np.random.randint(0, 10, 100),\n",
    "    'Disputes': np.random.randint(0, 5, 100),\n",
    "    'Reviews': np.random.randint(1, 5, 100),\n",
    "    'Weather_Conditions': np.random.choice(['Good', 'Moderate', 'Bad'], 100),\n",
    "    'Market_Trends': np.random.choice(['Stable', 'Volatile'], 100),\n",
    "    'Risk': np.random.randint(0, 101, 100)  # Continuous Risk Score from 0 to 100\n",
    "}\n",
    "\n",
    "df = pd.DataFrame(data)\n"
   ]
  },
  {
   "cell_type": "code",
   "execution_count": 16,
   "id": "89f77d6e-2444-4488-ae3c-90b58c35e83d",
   "metadata": {},
   "outputs": [
    {
     "name": "stdout",
     "output_type": "stream",
     "text": [
      " * Serving Flask app '__main__'\n",
      " * Debug mode: on\n"
     ]
    },
    {
     "name": "stderr",
     "output_type": "stream",
     "text": [
      "WARNING: This is a development server. Do not use it in a production deployment. Use a production WSGI server instead.\n",
      " * Running on http://127.0.0.1:5000\n",
      "Press CTRL+C to quit\n",
      " * Restarting with stat\n"
     ]
    },
    {
     "ename": "SystemExit",
     "evalue": "1",
     "output_type": "error",
     "traceback": [
      "An exception has occurred, use %tb to see the full traceback.\n",
      "\u001b[1;31mSystemExit\u001b[0m\u001b[1;31m:\u001b[0m 1\n"
     ]
    },
    {
     "name": "stderr",
     "output_type": "stream",
     "text": [
      "C:\\Users\\Ansh\\AppData\\Roaming\\Python\\Python311\\site-packages\\IPython\\core\\interactiveshell.py:3561: UserWarning: To exit: use 'exit', 'quit', or Ctrl-D.\n",
      "  warn(\"To exit: use 'exit', 'quit', or Ctrl-D.\", stacklevel=1)\n"
     ]
    }
   ],
   "source": [
    "from flask import Flask, render_template, request, jsonify\n",
    "import pandas as pd\n",
    "import numpy as np\n",
    "import xgboost as xgb\n",
    "from sklearn.preprocessing import LabelEncoder\n",
    "\n",
    "app = Flask(__name__)\n",
    "\n",
    "# Assume you've already trained your XGBoost model\n",
    "# Load the model\n",
    "\n",
    "xgb_model = xgb.Booster()\n",
    "xgb_model.load_model('xgb_model.json')  # Assuming the model is saved in a JSON format\n",
    "\n",
    "# Initialize LabelEncoders (same as you used before)\n",
    "contract_sizes = ['Small', 'Medium', 'Large']\n",
    "weather_conditions = ['Low', 'Moderate', 'High']\n",
    "market_trends = ['Stable', 'Growing', 'Declining']\n",
    "\n",
    "le_contract_size = LabelEncoder().fit(contract_sizes)\n",
    "le_weather_conditions = LabelEncoder().fit(weather_conditions)\n",
    "le_market_trends = LabelEncoder().fit(market_trends)\n",
    "\n",
    "@app.route('/')\n",
    "def index():\n",
    "    return render_template('index.html')\n",
    "\n",
    "@app.route('/predict', methods=['POST'])\n",
    "def predict():\n",
    "    # Get form data from the HTML form\n",
    "    payment_amount = int(request.form['payment_amount'])\n",
    "    delivery_time = int(request.form['delivery_time'])\n",
    "    contract_size = request.form['contract_size']\n",
    "    contract_duration = int(request.form['contract_duration'])\n",
    "    buyer_size = request.form['buyer_size']\n",
    "    farmer_experience = int(request.form['farmer_experience'])\n",
    "    buyer_experience = int(request.form['buyer_experience'])\n",
    "    past_contracts = int(request.form['past_contracts'])\n",
    "    payment_delays = int(request.form['payment_delays'])\n",
    "    delivery_delays = int(request.form['delivery_delays'])\n",
    "    disputes = int(request.form['disputes'])\n",
    "    reviews = int(request.form['reviews'])\n",
    "    weather_conditions_input = request.form['weather_conditions']\n",
    "    market_trends_input = request.form['market_trends']\n",
    "    \n",
    "    # Prepare the data\n",
    "    new_contract = {\n",
    "        'Payment_Amount': payment_amount,\n",
    "        'Delivery_Time': delivery_time,\n",
    "        'Contract_Size': le_contract_size.transform([contract_size])[0],\n",
    "        'Contract_Duration': contract_duration,\n",
    "        'Buyer_Size': le_contract_size.transform([buyer_size])[0],\n",
    "        'Farmer_Experience': farmer_experience,\n",
    "        'Buyer_Experience': buyer_experience,\n",
    "        'Past_Contracts': past_contracts,\n",
    "        'Payment_Delays': payment_delays,\n",
    "        'Delivery_Delays': delivery_delays,\n",
    "        'Disputes': disputes,\n",
    "        'Reviews': reviews,\n",
    "        'Weather_Conditions': le_weather_conditions.transform([weather_conditions_input])[0],\n",
    "        'Market_Trends': le_market_trends.transform([market_trends_input])[0]\n",
    "    }\n",
    "\n",
    "    # Convert the new contract data to a DataFrame\n",
    "    new_contract_df = pd.DataFrame([new_contract])\n",
    "\n",
    "    # Make a prediction using the model\n",
    "    dmatrix = xgb.DMatrix(new_contract_df)\n",
    "    predicted_risk_score = xgb_model.predict(dmatrix)\n",
    "\n",
    "    # Return the prediction as a JSON response\n",
    "    return jsonify({'risk_score': f\"{predicted_risk_score[0]:.2f}\"})\n",
    "\n",
    "if __name__ == '__main__':\n",
    "    app.run(debug=True)"
   ]
  },
  {
   "cell_type": "code",
   "execution_count": null,
   "id": "e6e69759-58c0-4dde-b0df-d58e91772f1b",
   "metadata": {},
   "outputs": [],
   "source": []
  },
  {
   "cell_type": "code",
   "execution_count": null,
   "id": "5173453b-644d-470b-a236-3706c6f0e681",
   "metadata": {},
   "outputs": [],
   "source": []
  },
  {
   "cell_type": "code",
   "execution_count": null,
   "id": "1fede1d0-1db4-49a8-9022-4a1ff9442157",
   "metadata": {},
   "outputs": [],
   "source": []
  }
 ],
 "metadata": {
  "kernelspec": {
   "display_name": "Python 3 (ipykernel)",
   "language": "python",
   "name": "python3"
  },
  "language_info": {
   "codemirror_mode": {
    "name": "ipython",
    "version": 3
   },
   "file_extension": ".py",
   "mimetype": "text/x-python",
   "name": "python",
   "nbconvert_exporter": "python",
   "pygments_lexer": "ipython3",
   "version": "3.11.6"
  }
 },
 "nbformat": 4,
 "nbformat_minor": 5
}
